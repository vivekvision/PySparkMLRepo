{
  "nbformat": 4,
  "nbformat_minor": 0,
  "metadata": {
    "colab": {
      "name": "LogisticRegStandardExample.ipynb",
      "provenance": [],
      "collapsed_sections": [],
      "authorship_tag": "ABX9TyPXAUivX1L8InzGu5rt2CoP",
      "include_colab_link": true
    },
    "kernelspec": {
      "name": "python3",
      "display_name": "Python 3"
    },
    "language_info": {
      "name": "python"
    }
  },
  "cells": [
    {
      "cell_type": "markdown",
      "metadata": {
        "id": "view-in-github",
        "colab_type": "text"
      },
      "source": [
        "<a href=\"https://colab.research.google.com/github/vivekvision/PySparkMLRepo/blob/main/LogisticRegStandardExample.ipynb\" target=\"_parent\"><img src=\"https://colab.research.google.com/assets/colab-badge.svg\" alt=\"Open In Colab\"/></a>"
      ]
    },
    {
      "cell_type": "code",
      "metadata": {
        "colab": {
          "base_uri": "https://localhost:8080/"
        },
        "id": "5MGnMZ4A1mjA",
        "outputId": "a6501d0a-c81f-4cd8-af89-cbf4ae2f5cb0"
      },
      "source": [
        "!pip install pyspark"
      ],
      "execution_count": 1,
      "outputs": [
        {
          "output_type": "stream",
          "name": "stdout",
          "text": [
            "Collecting pyspark\n",
            "  Downloading pyspark-3.2.0.tar.gz (281.3 MB)\n",
            "\u001b[K     |████████████████████████████████| 281.3 MB 36 kB/s \n",
            "\u001b[?25hCollecting py4j==0.10.9.2\n",
            "  Downloading py4j-0.10.9.2-py2.py3-none-any.whl (198 kB)\n",
            "\u001b[K     |████████████████████████████████| 198 kB 54.1 MB/s \n",
            "\u001b[?25hBuilding wheels for collected packages: pyspark\n",
            "  Building wheel for pyspark (setup.py) ... \u001b[?25l\u001b[?25hdone\n",
            "  Created wheel for pyspark: filename=pyspark-3.2.0-py2.py3-none-any.whl size=281805912 sha256=4a83fcdb1adf5f03fb4b1bf8a18c4031bb3e877e3bc8f553461d36301e6f6a0a\n",
            "  Stored in directory: /root/.cache/pip/wheels/0b/de/d2/9be5d59d7331c6c2a7c1b6d1a4f463ce107332b1ecd4e80718\n",
            "Successfully built pyspark\n",
            "Installing collected packages: py4j, pyspark\n",
            "Successfully installed py4j-0.10.9.2 pyspark-3.2.0\n"
          ]
        }
      ]
    },
    {
      "cell_type": "code",
      "metadata": {
        "id": "3F0woNay7-K9"
      },
      "source": [
        "from pyspark.sql import SparkSession\n",
        "spark = SparkSession.builder\\\n",
        "        .master(\"local\")\\\n",
        "        .appName(\"Colab\")\\\n",
        "        .config('spark.ui.port', '4050')\\\n",
        "        .getOrCreate()"
      ],
      "execution_count": 2,
      "outputs": []
    },
    {
      "cell_type": "code",
      "metadata": {
        "id": "kXlJ4mOg8Apj"
      },
      "source": [
        "from pyspark.ml.classification import LogisticRegression\n",
        "\n",
        "my_data = spark.read.format('libsvm').load(\"sample_libsvm_data.txt\")"
      ],
      "execution_count": 3,
      "outputs": []
    },
    {
      "cell_type": "code",
      "metadata": {
        "colab": {
          "base_uri": "https://localhost:8080/"
        },
        "id": "PE2eyo6MLAkk",
        "outputId": "07474f99-a927-4dbe-e1da-9d988ad2da42"
      },
      "source": [
        "my_data.show()"
      ],
      "execution_count": 4,
      "outputs": [
        {
          "output_type": "stream",
          "name": "stdout",
          "text": [
            "+-----+--------------------+\n",
            "|label|            features|\n",
            "+-----+--------------------+\n",
            "|  0.0|(692,[127,128,129...|\n",
            "|  1.0|(692,[158,159,160...|\n",
            "|  1.0|(692,[124,125,126...|\n",
            "|  1.0|(692,[152,153,154...|\n",
            "|  1.0|(692,[151,152,153...|\n",
            "|  0.0|(692,[129,130,131...|\n",
            "|  1.0|(692,[158,159,160...|\n",
            "|  1.0|(692,[99,100,101,...|\n",
            "|  0.0|(692,[154,155,156...|\n",
            "|  0.0|(692,[127,128,129...|\n",
            "|  1.0|(692,[154,155,156...|\n",
            "|  0.0|(692,[153,154,155...|\n",
            "|  0.0|(692,[151,152,153...|\n",
            "|  1.0|(692,[129,130,131...|\n",
            "|  0.0|(692,[154,155,156...|\n",
            "|  1.0|(692,[150,151,152...|\n",
            "|  0.0|(692,[124,125,126...|\n",
            "|  0.0|(692,[152,153,154...|\n",
            "|  1.0|(692,[97,98,99,12...|\n",
            "|  1.0|(692,[124,125,126...|\n",
            "+-----+--------------------+\n",
            "only showing top 20 rows\n",
            "\n"
          ]
        }
      ]
    },
    {
      "cell_type": "code",
      "metadata": {
        "id": "ncxE_L3EM_1G"
      },
      "source": [
        "my_log_reg_model = LogisticRegression()\n",
        "fitted_logreg = my_log_reg_model.fit(my_data)\n"
      ],
      "execution_count": 5,
      "outputs": []
    },
    {
      "cell_type": "code",
      "metadata": {
        "colab": {
          "base_uri": "https://localhost:8080/"
        },
        "id": "3NMNLYESNWEj",
        "outputId": "4d5f6f15-fba1-4ece-a071-e527b41bf112"
      },
      "source": [
        "log_summary = fitted_logreg.summary\n",
        "log_summary.predictions.printSchema()"
      ],
      "execution_count": 6,
      "outputs": [
        {
          "output_type": "stream",
          "name": "stdout",
          "text": [
            "root\n",
            " |-- label: double (nullable = true)\n",
            " |-- features: vector (nullable = true)\n",
            " |-- rawPrediction: vector (nullable = true)\n",
            " |-- probability: vector (nullable = true)\n",
            " |-- prediction: double (nullable = false)\n",
            "\n"
          ]
        },
        {
          "output_type": "stream",
          "name": "stderr",
          "text": [
            "/usr/local/lib/python3.7/dist-packages/pyspark/sql/context.py:127: FutureWarning: Deprecated in 3.0.0. Use SparkSession.builder.getOrCreate() instead.\n",
            "  FutureWarning\n"
          ]
        }
      ]
    },
    {
      "cell_type": "code",
      "metadata": {
        "colab": {
          "base_uri": "https://localhost:8080/"
        },
        "id": "j6PwHRnSNhn1",
        "outputId": "bbed8467-c8c3-4d2c-c196-5971c8e8d97f"
      },
      "source": [
        "log_summary.predictions.select('label', 'prediction').show()"
      ],
      "execution_count": 9,
      "outputs": [
        {
          "output_type": "stream",
          "name": "stderr",
          "text": [
            "/usr/local/lib/python3.7/dist-packages/pyspark/sql/context.py:127: FutureWarning: Deprecated in 3.0.0. Use SparkSession.builder.getOrCreate() instead.\n",
            "  FutureWarning\n"
          ]
        },
        {
          "output_type": "stream",
          "name": "stdout",
          "text": [
            "+-----+----------+\n",
            "|label|prediction|\n",
            "+-----+----------+\n",
            "|  0.0|       0.0|\n",
            "|  1.0|       1.0|\n",
            "|  1.0|       1.0|\n",
            "|  1.0|       1.0|\n",
            "|  1.0|       1.0|\n",
            "|  0.0|       0.0|\n",
            "|  1.0|       1.0|\n",
            "|  1.0|       1.0|\n",
            "|  0.0|       0.0|\n",
            "|  0.0|       0.0|\n",
            "|  1.0|       1.0|\n",
            "|  0.0|       0.0|\n",
            "|  0.0|       0.0|\n",
            "|  1.0|       1.0|\n",
            "|  0.0|       0.0|\n",
            "|  1.0|       1.0|\n",
            "|  0.0|       0.0|\n",
            "|  0.0|       0.0|\n",
            "|  1.0|       1.0|\n",
            "|  1.0|       1.0|\n",
            "+-----+----------+\n",
            "only showing top 20 rows\n",
            "\n"
          ]
        }
      ]
    },
    {
      "cell_type": "code",
      "metadata": {
        "id": "pReo7q68N_EG"
      },
      "source": [
        "lr_train, lr_test = my_data.randomSplit([0.7, 0.3])"
      ],
      "execution_count": 10,
      "outputs": []
    },
    {
      "cell_type": "code",
      "metadata": {
        "id": "mIqqC_UxOh2H"
      },
      "source": [
        "final_model = LogisticRegression()\n",
        "fit_final = final_model.fit(lr_train)"
      ],
      "execution_count": 11,
      "outputs": []
    },
    {
      "cell_type": "code",
      "metadata": {
        "id": "kcuT1nG7P47s"
      },
      "source": [
        "prediction_and_labels = fit_final.evaluate(lr_test)"
      ],
      "execution_count": 12,
      "outputs": []
    },
    {
      "cell_type": "code",
      "metadata": {
        "colab": {
          "base_uri": "https://localhost:8080/"
        },
        "id": "OfU1iEx-QGZM",
        "outputId": "e6b58b9b-4e61-44d6-829d-fbe7a77e101c"
      },
      "source": [
        "prediction_and_labels.predictions.show()"
      ],
      "execution_count": 13,
      "outputs": [
        {
          "output_type": "stream",
          "name": "stderr",
          "text": [
            "/usr/local/lib/python3.7/dist-packages/pyspark/sql/context.py:127: FutureWarning: Deprecated in 3.0.0. Use SparkSession.builder.getOrCreate() instead.\n",
            "  FutureWarning\n"
          ]
        },
        {
          "output_type": "stream",
          "name": "stdout",
          "text": [
            "+-----+--------------------+--------------------+--------------------+----------+\n",
            "|label|            features|       rawPrediction|         probability|prediction|\n",
            "+-----+--------------------+--------------------+--------------------+----------+\n",
            "|  0.0|(692,[98,99,100,1...|[24.7950468813347...|[0.99999999998295...|       0.0|\n",
            "|  0.0|(692,[122,123,148...|[23.9815703589148...|[0.99999999996154...|       0.0|\n",
            "|  0.0|(692,[123,124,125...|[36.6284422851403...|[0.99999999999999...|       0.0|\n",
            "|  0.0|(692,[124,125,126...|[34.1630045639150...|[0.99999999999999...|       0.0|\n",
            "|  0.0|(692,[124,125,126...|[36.0180627886247...|[0.99999999999999...|       0.0|\n",
            "|  0.0|(692,[126,127,128...|[39.3430625282505...|           [1.0,0.0]|       0.0|\n",
            "|  0.0|(692,[126,127,128...|[13.2227512043701...|[0.99999819103014...|       0.0|\n",
            "|  0.0|(692,[126,127,128...|[26.2580896160959...|[0.99999999999605...|       0.0|\n",
            "|  0.0|(692,[127,128,129...|[22.9616774457710...|[0.99999999989337...|       0.0|\n",
            "|  0.0|(692,[152,153,154...|[18.6295572420639...|[0.99999999188504...|       0.0|\n",
            "|  0.0|(692,[152,153,154...|[10.5157105114993...|[0.99997289351658...|       0.0|\n",
            "|  0.0|(692,[154,155,156...|[15.5566788452362...|[0.99999982468456...|       0.0|\n",
            "|  1.0|(692,[123,124,125...|[-19.857643740890...|[2.37648402191045...|       1.0|\n",
            "|  1.0|(692,[123,124,125...|[-16.049771567870...|[1.07071213734640...|       1.0|\n",
            "|  1.0|(692,[123,124,125...|[-17.721804610998...|[2.01149074798834...|       1.0|\n",
            "|  1.0|(692,[124,125,126...|[-16.023586371531...|[1.09911924147757...|       1.0|\n",
            "|  1.0|(692,[124,125,126...|[-24.453144775234...|[2.39957406257507...|       1.0|\n",
            "|  1.0|(692,[126,127,128...|[-27.042847588299...|[1.80069648761934...|       1.0|\n",
            "|  1.0|(692,[126,127,128...|[-26.544715449783...|[2.96330638278119...|       1.0|\n",
            "|  1.0|(692,[127,128,129...|[-22.025325292301...|[2.71971103455038...|       1.0|\n",
            "+-----+--------------------+--------------------+--------------------+----------+\n",
            "only showing top 20 rows\n",
            "\n"
          ]
        }
      ]
    },
    {
      "cell_type": "code",
      "metadata": {
        "colab": {
          "base_uri": "https://localhost:8080/"
        },
        "id": "hlaL9IKiQcfT",
        "outputId": "1b68a90e-ba13-49a8-e0e8-fc59c757159e"
      },
      "source": [
        "from pyspark.ml.evaluation import BinaryClassificationEvaluator, MulticlassClassificationEvaluator\n",
        "\n",
        "my_eval = BinaryClassificationEvaluator()\n",
        "my_roc =  my_eval.evaluate(prediction_and_labels.predictions)"
      ],
      "execution_count": 15,
      "outputs": [
        {
          "output_type": "stream",
          "name": "stderr",
          "text": [
            "/usr/local/lib/python3.7/dist-packages/pyspark/sql/context.py:127: FutureWarning: Deprecated in 3.0.0. Use SparkSession.builder.getOrCreate() instead.\n",
            "  FutureWarning\n"
          ]
        }
      ]
    },
    {
      "cell_type": "code",
      "metadata": {
        "colab": {
          "base_uri": "https://localhost:8080/"
        },
        "id": "ZEBKD3O2SG1e",
        "outputId": "164b11c3-070d-4fae-efd5-c2ba8ab7c184"
      },
      "source": [
        "my_roc"
      ],
      "execution_count": 16,
      "outputs": [
        {
          "output_type": "execute_result",
          "data": {
            "text/plain": [
              "1.0"
            ]
          },
          "metadata": {},
          "execution_count": 16
        }
      ]
    }
  ]
}