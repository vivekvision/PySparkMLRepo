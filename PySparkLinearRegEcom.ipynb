{
  "nbformat": 4,
  "nbformat_minor": 0,
  "metadata": {
    "colab": {
      "name": "PySparkLinearRegEcom.ipynb",
      "provenance": [],
      "collapsed_sections": [],
      "authorship_tag": "ABX9TyPGXw3fRDV7NmSy6T4qjXKR",
      "include_colab_link": true
    },
    "kernelspec": {
      "name": "python3",
      "display_name": "Python 3"
    },
    "language_info": {
      "name": "python"
    }
  },
  "cells": [
    {
      "cell_type": "markdown",
      "metadata": {
        "id": "view-in-github",
        "colab_type": "text"
      },
      "source": [
        "<a href=\"https://colab.research.google.com/github/vivekvision/PySparkMLRepo/blob/main/PySparkLinearRegEcom.ipynb\" target=\"_parent\"><img src=\"https://colab.research.google.com/assets/colab-badge.svg\" alt=\"Open In Colab\"/></a>"
      ]
    },
    {
      "cell_type": "code",
      "metadata": {
        "colab": {
          "base_uri": "https://localhost:8080/"
        },
        "id": "VIvdLKWJLiA0",
        "outputId": "d25e5f4b-40da-410c-fea0-df52aae6d47b"
      },
      "source": [
        "!pip install pyspark"
      ],
      "execution_count": 2,
      "outputs": [
        {
          "output_type": "stream",
          "name": "stdout",
          "text": [
            "Collecting pyspark\n",
            "  Downloading pyspark-3.2.0.tar.gz (281.3 MB)\n",
            "\u001b[K     |████████████████████████████████| 281.3 MB 38 kB/s \n",
            "\u001b[?25hCollecting py4j==0.10.9.2\n",
            "  Downloading py4j-0.10.9.2-py2.py3-none-any.whl (198 kB)\n",
            "\u001b[K     |████████████████████████████████| 198 kB 64.5 MB/s \n",
            "\u001b[?25hBuilding wheels for collected packages: pyspark\n",
            "  Building wheel for pyspark (setup.py) ... \u001b[?25l\u001b[?25hdone\n",
            "  Created wheel for pyspark: filename=pyspark-3.2.0-py2.py3-none-any.whl size=281805912 sha256=cc08f69b79ac293ae9f0033328791dbbccff43b36bbb3340066dea9efaf2d302\n",
            "  Stored in directory: /root/.cache/pip/wheels/0b/de/d2/9be5d59d7331c6c2a7c1b6d1a4f463ce107332b1ecd4e80718\n",
            "Successfully built pyspark\n",
            "Installing collected packages: py4j, pyspark\n",
            "Successfully installed py4j-0.10.9.2 pyspark-3.2.0\n"
          ]
        }
      ]
    },
    {
      "cell_type": "code",
      "metadata": {
        "id": "8cYO5x9lLtOh"
      },
      "source": [
        "from pyspark.sql import SparkSession\n",
        "spark = SparkSession.builder\\\n",
        "        .master(\"local\")\\\n",
        "        .appName(\"Colab\")\\\n",
        "        .config('spark.ui.port', '4050')\\\n",
        "        .getOrCreate()"
      ],
      "execution_count": 3,
      "outputs": []
    },
    {
      "cell_type": "code",
      "metadata": {
        "id": "X17Ooz-MLuPx"
      },
      "source": [
        "#spark"
      ],
      "execution_count": 4,
      "outputs": []
    },
    {
      "cell_type": "code",
      "metadata": {
        "id": "JQDqvE5NLyIZ"
      },
      "source": [
        "from pyspark.ml.regression import LinearRegression\n"
      ],
      "execution_count": 5,
      "outputs": []
    },
    {
      "cell_type": "code",
      "metadata": {
        "id": "aPvHS3WEMAnB"
      },
      "source": [
        "data = spark.read.csv('Ecommerce_Customers.csv', inferSchema=True, header=True)"
      ],
      "execution_count": 6,
      "outputs": []
    },
    {
      "cell_type": "code",
      "metadata": {
        "colab": {
          "base_uri": "https://localhost:8080/"
        },
        "id": "0vB6RyrEMZaO",
        "outputId": "6a3e5525-7588-4710-f250-b7360cdc2491"
      },
      "source": [
        "data.printSchema()"
      ],
      "execution_count": 7,
      "outputs": [
        {
          "output_type": "stream",
          "name": "stdout",
          "text": [
            "root\n",
            " |-- Email: string (nullable = true)\n",
            " |-- Address: string (nullable = true)\n",
            " |-- Avatar: string (nullable = true)\n",
            " |-- Avg Session Length: double (nullable = true)\n",
            " |-- Time on App: double (nullable = true)\n",
            " |-- Time on Website: double (nullable = true)\n",
            " |-- Length of Membership: double (nullable = true)\n",
            " |-- Yearly Amount Spent: double (nullable = true)\n",
            "\n"
          ]
        }
      ]
    },
    {
      "cell_type": "code",
      "metadata": {
        "colab": {
          "base_uri": "https://localhost:8080/",
          "height": 558
        },
        "id": "jKHEycIDMl4S",
        "outputId": "419af33d-917d-4f7c-c7e4-92379505e7a0"
      },
      "source": [
        "data.limit(10).toPandas()"
      ],
      "execution_count": 8,
      "outputs": [
        {
          "output_type": "execute_result",
          "data": {
            "text/html": [
              "<div>\n",
              "<style scoped>\n",
              "    .dataframe tbody tr th:only-of-type {\n",
              "        vertical-align: middle;\n",
              "    }\n",
              "\n",
              "    .dataframe tbody tr th {\n",
              "        vertical-align: top;\n",
              "    }\n",
              "\n",
              "    .dataframe thead th {\n",
              "        text-align: right;\n",
              "    }\n",
              "</style>\n",
              "<table border=\"1\" class=\"dataframe\">\n",
              "  <thead>\n",
              "    <tr style=\"text-align: right;\">\n",
              "      <th></th>\n",
              "      <th>Email</th>\n",
              "      <th>Address</th>\n",
              "      <th>Avatar</th>\n",
              "      <th>Avg Session Length</th>\n",
              "      <th>Time on App</th>\n",
              "      <th>Time on Website</th>\n",
              "      <th>Length of Membership</th>\n",
              "      <th>Yearly Amount Spent</th>\n",
              "    </tr>\n",
              "  </thead>\n",
              "  <tbody>\n",
              "    <tr>\n",
              "      <th>0</th>\n",
              "      <td>mstephenson@fernandez.com</td>\n",
              "      <td>835 Frank TunnelWrightmouth, MI 82180-9605</td>\n",
              "      <td>Violet</td>\n",
              "      <td>34.497268</td>\n",
              "      <td>12.655651</td>\n",
              "      <td>39.577668</td>\n",
              "      <td>4.082621</td>\n",
              "      <td>587.951054</td>\n",
              "    </tr>\n",
              "    <tr>\n",
              "      <th>1</th>\n",
              "      <td>hduke@hotmail.com</td>\n",
              "      <td>4547 Archer CommonDiazchester, CA 06566-8576</td>\n",
              "      <td>DarkGreen</td>\n",
              "      <td>31.926272</td>\n",
              "      <td>11.109461</td>\n",
              "      <td>37.268959</td>\n",
              "      <td>2.664034</td>\n",
              "      <td>392.204933</td>\n",
              "    </tr>\n",
              "    <tr>\n",
              "      <th>2</th>\n",
              "      <td>pallen@yahoo.com</td>\n",
              "      <td>24645 Valerie Unions Suite 582Cobbborough, DC ...</td>\n",
              "      <td>Bisque</td>\n",
              "      <td>33.000915</td>\n",
              "      <td>11.330278</td>\n",
              "      <td>37.110597</td>\n",
              "      <td>4.104543</td>\n",
              "      <td>487.547505</td>\n",
              "    </tr>\n",
              "    <tr>\n",
              "      <th>3</th>\n",
              "      <td>riverarebecca@gmail.com</td>\n",
              "      <td>1414 David ThroughwayPort Jason, OH 22070-1220</td>\n",
              "      <td>SaddleBrown</td>\n",
              "      <td>34.305557</td>\n",
              "      <td>13.717514</td>\n",
              "      <td>36.721283</td>\n",
              "      <td>3.120179</td>\n",
              "      <td>581.852344</td>\n",
              "    </tr>\n",
              "    <tr>\n",
              "      <th>4</th>\n",
              "      <td>mstephens@davidson-herman.com</td>\n",
              "      <td>14023 Rodriguez PassagePort Jacobville, PR 372...</td>\n",
              "      <td>MediumAquaMarine</td>\n",
              "      <td>33.330673</td>\n",
              "      <td>12.795189</td>\n",
              "      <td>37.536653</td>\n",
              "      <td>4.446308</td>\n",
              "      <td>599.406092</td>\n",
              "    </tr>\n",
              "    <tr>\n",
              "      <th>5</th>\n",
              "      <td>alvareznancy@lucas.biz</td>\n",
              "      <td>645 Martha Park Apt. 611Jeffreychester, MN 672...</td>\n",
              "      <td>FloralWhite</td>\n",
              "      <td>33.871038</td>\n",
              "      <td>12.026925</td>\n",
              "      <td>34.476878</td>\n",
              "      <td>5.493507</td>\n",
              "      <td>637.102448</td>\n",
              "    </tr>\n",
              "    <tr>\n",
              "      <th>6</th>\n",
              "      <td>katherine20@yahoo.com</td>\n",
              "      <td>68388 Reyes Lights Suite 692Josephbury, WV 922...</td>\n",
              "      <td>DarkSlateBlue</td>\n",
              "      <td>32.021596</td>\n",
              "      <td>11.366348</td>\n",
              "      <td>36.683776</td>\n",
              "      <td>4.685017</td>\n",
              "      <td>521.572175</td>\n",
              "    </tr>\n",
              "    <tr>\n",
              "      <th>7</th>\n",
              "      <td>awatkins@yahoo.com</td>\n",
              "      <td>Unit 6538 Box 8980DPO AP 09026-4941</td>\n",
              "      <td>Aqua</td>\n",
              "      <td>32.739143</td>\n",
              "      <td>12.351959</td>\n",
              "      <td>37.373359</td>\n",
              "      <td>4.434273</td>\n",
              "      <td>549.904146</td>\n",
              "    </tr>\n",
              "    <tr>\n",
              "      <th>8</th>\n",
              "      <td>vchurch@walter-martinez.com</td>\n",
              "      <td>860 Lee KeyWest Debra, SD 97450-0495</td>\n",
              "      <td>Salmon</td>\n",
              "      <td>33.987773</td>\n",
              "      <td>13.386235</td>\n",
              "      <td>37.534497</td>\n",
              "      <td>3.273434</td>\n",
              "      <td>570.200409</td>\n",
              "    </tr>\n",
              "    <tr>\n",
              "      <th>9</th>\n",
              "      <td>bonnie69@lin.biz</td>\n",
              "      <td>PSC 2734, Box 5255APO AA 98456-7482</td>\n",
              "      <td>Brown</td>\n",
              "      <td>31.936549</td>\n",
              "      <td>11.814128</td>\n",
              "      <td>37.145168</td>\n",
              "      <td>3.202806</td>\n",
              "      <td>427.199385</td>\n",
              "    </tr>\n",
              "  </tbody>\n",
              "</table>\n",
              "</div>"
            ],
            "text/plain": [
              "                           Email  ... Yearly Amount Spent\n",
              "0      mstephenson@fernandez.com  ...          587.951054\n",
              "1              hduke@hotmail.com  ...          392.204933\n",
              "2               pallen@yahoo.com  ...          487.547505\n",
              "3        riverarebecca@gmail.com  ...          581.852344\n",
              "4  mstephens@davidson-herman.com  ...          599.406092\n",
              "5         alvareznancy@lucas.biz  ...          637.102448\n",
              "6          katherine20@yahoo.com  ...          521.572175\n",
              "7             awatkins@yahoo.com  ...          549.904146\n",
              "8    vchurch@walter-martinez.com  ...          570.200409\n",
              "9               bonnie69@lin.biz  ...          427.199385\n",
              "\n",
              "[10 rows x 8 columns]"
            ]
          },
          "metadata": {},
          "execution_count": 8
        }
      ]
    },
    {
      "cell_type": "code",
      "metadata": {
        "id": "IsXCDg3BMx1T"
      },
      "source": [
        "from pyspark.ml.linalg import Vectors\n",
        "from pyspark.ml.feature import VectorAssembler\n"
      ],
      "execution_count": 9,
      "outputs": []
    },
    {
      "cell_type": "code",
      "metadata": {
        "colab": {
          "base_uri": "https://localhost:8080/"
        },
        "id": "_Qv97OjdNQmZ",
        "outputId": "b51147c1-55e9-455d-c267-c85e0778f009"
      },
      "source": [
        "data.columns"
      ],
      "execution_count": 11,
      "outputs": [
        {
          "output_type": "execute_result",
          "data": {
            "text/plain": [
              "['Email',\n",
              " 'Address',\n",
              " 'Avatar',\n",
              " 'Avg Session Length',\n",
              " 'Time on App',\n",
              " 'Time on Website',\n",
              " 'Length of Membership',\n",
              " 'Yearly Amount Spent']"
            ]
          },
          "metadata": {},
          "execution_count": 11
        }
      ]
    },
    {
      "cell_type": "code",
      "metadata": {
        "id": "lzPIFMAJNZJy"
      },
      "source": [
        "# inputCols is list of columns that will be used in model \n",
        "assembler =  VectorAssembler(inputCols=['Avg Session Length','Time on App','Time on Website',\\\n",
        "                                        'Length of Membership'], outputCol='features')\n",
        "\n",
        "output = assembler.transform(data)"
      ],
      "execution_count": 10,
      "outputs": []
    },
    {
      "cell_type": "code",
      "metadata": {
        "colab": {
          "base_uri": "https://localhost:8080/"
        },
        "id": "WvRgSFs8OOjD",
        "outputId": "0782df99-4b90-4532-c20d-9610b82865cb"
      },
      "source": [
        "output.head(1)"
      ],
      "execution_count": 13,
      "outputs": [
        {
          "output_type": "execute_result",
          "data": {
            "text/plain": [
              "[Row(Email='mstephenson@fernandez.com', Address='835 Frank TunnelWrightmouth, MI 82180-9605', Avatar='Violet', Avg Session Length=34.49726772511229, Time on App=12.65565114916675, Time on Website=39.57766801952616, Length of Membership=4.0826206329529615, Yearly Amount Spent=587.9510539684005, features=DenseVector([34.4973, 12.6557, 39.5777, 4.0826]))]"
            ]
          },
          "metadata": {},
          "execution_count": 13
        }
      ]
    },
    {
      "cell_type": "code",
      "metadata": {
        "id": "KDkU0lInOWgZ"
      },
      "source": [
        "final_data = output.select('features', 'Yearly Amount Spent')"
      ],
      "execution_count": 11,
      "outputs": []
    },
    {
      "cell_type": "code",
      "metadata": {
        "colab": {
          "base_uri": "https://localhost:8080/"
        },
        "id": "Aa5rb3DqOfPR",
        "outputId": "e9109441-a3f9-4298-fa1e-5b49f445a94a"
      },
      "source": [
        "final_data.show()"
      ],
      "execution_count": 15,
      "outputs": [
        {
          "output_type": "stream",
          "name": "stdout",
          "text": [
            "+--------------------+-------------------+\n",
            "|            features|Yearly Amount Spent|\n",
            "+--------------------+-------------------+\n",
            "|[34.4972677251122...|  587.9510539684005|\n",
            "|[31.9262720263601...|  392.2049334443264|\n",
            "|[33.0009147556426...| 487.54750486747207|\n",
            "|[34.3055566297555...|  581.8523440352177|\n",
            "|[33.3306725236463...|  599.4060920457634|\n",
            "|[33.8710378793419...|   637.102447915074|\n",
            "|[32.0215955013870...|  521.5721747578274|\n",
            "|[32.7391429383803...|  549.9041461052942|\n",
            "|[33.9877728956856...|  570.2004089636196|\n",
            "|[31.9365486184489...|  427.1993848953282|\n",
            "|[33.9925727749537...|  492.6060127179966|\n",
            "|[33.8793608248049...|  522.3374046069357|\n",
            "|[29.5324289670579...|  408.6403510726275|\n",
            "|[33.1903340437226...|  573.4158673313865|\n",
            "|[32.3879758531538...|  470.4527333009554|\n",
            "|[30.7377203726281...|  461.7807421962299|\n",
            "|[32.1253868972878...| 457.84769594494855|\n",
            "|[32.3388993230671...| 407.70454754954415|\n",
            "|[32.1878120459321...|  452.3156754800354|\n",
            "|[32.6178560628234...|   605.061038804892|\n",
            "+--------------------+-------------------+\n",
            "only showing top 20 rows\n",
            "\n"
          ]
        }
      ]
    },
    {
      "cell_type": "code",
      "metadata": {
        "id": "ckabSMruOimS"
      },
      "source": [
        "train_data, test_data = final_data.randomSplit([0.7, 0.3])"
      ],
      "execution_count": 12,
      "outputs": []
    },
    {
      "cell_type": "code",
      "metadata": {
        "colab": {
          "base_uri": "https://localhost:8080/"
        },
        "id": "oVTyr40RTzmo",
        "outputId": "c7207f12-f900-412d-ff08-eb6aee3e2f27"
      },
      "source": [
        "train_data.describe().show()"
      ],
      "execution_count": 19,
      "outputs": [
        {
          "output_type": "stream",
          "name": "stdout",
          "text": [
            "+-------+-------------------+\n",
            "|summary|Yearly Amount Spent|\n",
            "+-------+-------------------+\n",
            "|  count|                359|\n",
            "|   mean| 499.19209326061025|\n",
            "| stddev|   78.2267267122035|\n",
            "|    min| 256.67058229005585|\n",
            "|    max|  765.5184619388373|\n",
            "+-------+-------------------+\n",
            "\n"
          ]
        }
      ]
    },
    {
      "cell_type": "code",
      "metadata": {
        "colab": {
          "base_uri": "https://localhost:8080/"
        },
        "id": "wB_SexU_T2oJ",
        "outputId": "f51993b8-3f5f-4c91-d89d-8095d86b646f"
      },
      "source": [
        "test_data.describe().show()"
      ],
      "execution_count": 20,
      "outputs": [
        {
          "output_type": "stream",
          "name": "stdout",
          "text": [
            "+-------+-------------------+\n",
            "|summary|Yearly Amount Spent|\n",
            "+-------+-------------------+\n",
            "|  count|                141|\n",
            "|   mean|  499.6245223314629|\n",
            "| stddev|  82.30409138254495|\n",
            "|    min|  282.4712457199145|\n",
            "|    max|  744.2218671047146|\n",
            "+-------+-------------------+\n",
            "\n"
          ]
        }
      ]
    },
    {
      "cell_type": "code",
      "metadata": {
        "id": "-WiR2UWqUEA5"
      },
      "source": [
        "lr = LinearRegression(labelCol='Yearly Amount Spent')"
      ],
      "execution_count": 13,
      "outputs": []
    },
    {
      "cell_type": "code",
      "metadata": {
        "id": "qUIju1EAUV4A"
      },
      "source": [
        "lr_model = lr.fit(train_data)"
      ],
      "execution_count": 14,
      "outputs": []
    },
    {
      "cell_type": "code",
      "metadata": {
        "id": "KEDWXfQGUaoC"
      },
      "source": [
        "test_results = lr_model.evaluate(test_data)"
      ],
      "execution_count": 15,
      "outputs": []
    },
    {
      "cell_type": "code",
      "metadata": {
        "colab": {
          "base_uri": "https://localhost:8080/"
        },
        "id": "Apz_WTLLUkaS",
        "outputId": "4f79b1fc-f430-4a78-8bad-193324f4e37e"
      },
      "source": [
        "test_results.residuals.show()"
      ],
      "execution_count": 24,
      "outputs": [
        {
          "output_type": "stream",
          "name": "stderr",
          "text": [
            "/usr/local/lib/python3.7/dist-packages/pyspark/sql/context.py:127: FutureWarning: Deprecated in 3.0.0. Use SparkSession.builder.getOrCreate() instead.\n",
            "  FutureWarning\n"
          ]
        },
        {
          "output_type": "stream",
          "name": "stdout",
          "text": [
            "+-------------------+\n",
            "|          residuals|\n",
            "+-------------------+\n",
            "| -6.189977188697469|\n",
            "|-0.7271073664351775|\n",
            "| -5.648577298435782|\n",
            "|  -7.42729010422255|\n",
            "| -13.96922338814801|\n",
            "|  9.125204140818141|\n",
            "| 20.627199856092147|\n",
            "| 1.8650050876332216|\n",
            "| 2.2786279995211203|\n",
            "| -6.263802696246216|\n",
            "| -9.151981079265113|\n",
            "|  3.521938668956693|\n",
            "|-15.462292466723966|\n",
            "|  17.22995543229399|\n",
            "|-5.2509413258649715|\n",
            "|  6.095095207049724|\n",
            "| -27.27373397949816|\n",
            "|  -7.34800029294172|\n",
            "|-2.3984659624968003|\n",
            "| -18.77487344769912|\n",
            "+-------------------+\n",
            "only showing top 20 rows\n",
            "\n"
          ]
        }
      ]
    },
    {
      "cell_type": "code",
      "metadata": {
        "colab": {
          "base_uri": "https://localhost:8080/"
        },
        "id": "D1IRVa70UtKB",
        "outputId": "72033962-105e-4295-daca-d7a72c05c33f"
      },
      "source": [
        "test_results.rootMeanSquaredError"
      ],
      "execution_count": 16,
      "outputs": [
        {
          "output_type": "execute_result",
          "data": {
            "text/plain": [
              "9.98484829350356"
            ]
          },
          "metadata": {},
          "execution_count": 16
        }
      ]
    },
    {
      "cell_type": "code",
      "metadata": {
        "colab": {
          "base_uri": "https://localhost:8080/"
        },
        "id": "B116O0UJU3Fq",
        "outputId": "b1bd31e3-cdfc-4b8c-a6fa-404c2481b89b"
      },
      "source": [
        "test_results.r2"
      ],
      "execution_count": 17,
      "outputs": [
        {
          "output_type": "execute_result",
          "data": {
            "text/plain": [
              "0.9853430787734897"
            ]
          },
          "metadata": {},
          "execution_count": 17
        }
      ]
    },
    {
      "cell_type": "code",
      "metadata": {
        "id": "yJkbYj0-U-OJ"
      },
      "source": [
        "unlabeled_data = test_data.select('features')"
      ],
      "execution_count": 18,
      "outputs": []
    },
    {
      "cell_type": "code",
      "metadata": {
        "id": "tUnR3bgoCdgq"
      },
      "source": [
        "predictions = lr_model.transform(unlabeled_data)"
      ],
      "execution_count": 19,
      "outputs": []
    },
    {
      "cell_type": "code",
      "metadata": {
        "colab": {
          "base_uri": "https://localhost:8080/"
        },
        "id": "kKFHaPa9Clov",
        "outputId": "730f63fe-2e88-45cb-fa79-23a95f7a856b"
      },
      "source": [
        "predictions.show()"
      ],
      "execution_count": 20,
      "outputs": [
        {
          "output_type": "stream",
          "name": "stdout",
          "text": [
            "+--------------------+------------------+\n",
            "|            features|        prediction|\n",
            "+--------------------+------------------+\n",
            "|[30.4925366965402...|290.01740647278984|\n",
            "|[30.8364326747734...|473.71570698829237|\n",
            "|[30.8794843441274...| 495.7010637904084|\n",
            "|[31.0472221394875...| 389.5105746729282|\n",
            "|[31.0662181616375...| 463.9033586564094|\n",
            "|[31.2681042107507...| 429.3058659690005|\n",
            "|[31.3091926408918...| 431.5636662525653|\n",
            "|[31.3123495994443...|445.98528633666524|\n",
            "|[31.5147378578019...| 495.9400053748668|\n",
            "|[31.5171218025062...|281.33646483941334|\n",
            "|[31.5261978982398...| 419.0797568677374|\n",
            "|[31.5316044825729...| 433.3684823633771|\n",
            "|[31.5741380228732...| 560.1163153561581|\n",
            "|[31.7207699002873...|  546.946696115943|\n",
            "|[31.7366356860502...|  496.598045547212|\n",
            "|[31.8093003166791...|  549.719706322205|\n",
            "|[31.8124825597242...|398.34654668908934|\n",
            "|[31.8164283341993...| 519.4967285213138|\n",
            "|[31.8530748017465...| 462.7438176047715|\n",
            "|[31.9048571310136...|492.26253558803137|\n",
            "+--------------------+------------------+\n",
            "only showing top 20 rows\n",
            "\n"
          ]
        }
      ]
    }
  ]
}