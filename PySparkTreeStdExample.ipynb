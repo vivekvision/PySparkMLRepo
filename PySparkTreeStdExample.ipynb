{
  "nbformat": 4,
  "nbformat_minor": 0,
  "metadata": {
    "colab": {
      "name": "PySparkTreeStdExample.ipynb",
      "provenance": [],
      "collapsed_sections": [],
      "authorship_tag": "ABX9TyPBqqSDnDLpOhJR39slCY2S",
      "include_colab_link": true
    },
    "kernelspec": {
      "name": "python3",
      "display_name": "Python 3"
    },
    "language_info": {
      "name": "python"
    }
  },
  "cells": [
    {
      "cell_type": "markdown",
      "metadata": {
        "id": "view-in-github",
        "colab_type": "text"
      },
      "source": [
        "<a href=\"https://colab.research.google.com/github/vivekvision/PySparkMLRepo/blob/main/PySparkTreeStdExample.ipynb\" target=\"_parent\"><img src=\"https://colab.research.google.com/assets/colab-badge.svg\" alt=\"Open In Colab\"/></a>"
      ]
    },
    {
      "cell_type": "code",
      "metadata": {
        "colab": {
          "base_uri": "https://localhost:8080/"
        },
        "id": "ZFxRJW3dnhUO",
        "outputId": "e73a3a7a-b39a-429b-800a-6fbfc1e9593a"
      },
      "source": [
        "!pip install pyspark"
      ],
      "execution_count": 1,
      "outputs": [
        {
          "output_type": "stream",
          "name": "stdout",
          "text": [
            "Collecting pyspark\n",
            "  Downloading pyspark-3.2.0.tar.gz (281.3 MB)\n",
            "\u001b[K     |████████████████████████████████| 281.3 MB 35 kB/s \n",
            "\u001b[?25hCollecting py4j==0.10.9.2\n",
            "  Downloading py4j-0.10.9.2-py2.py3-none-any.whl (198 kB)\n",
            "\u001b[K     |████████████████████████████████| 198 kB 63.0 MB/s \n",
            "\u001b[?25hBuilding wheels for collected packages: pyspark\n",
            "  Building wheel for pyspark (setup.py) ... \u001b[?25l\u001b[?25hdone\n",
            "  Created wheel for pyspark: filename=pyspark-3.2.0-py2.py3-none-any.whl size=281805912 sha256=58340bc656af621bbd7e339fc892816fe1772b6b16df3ecf2adff90f8d57f2c3\n",
            "  Stored in directory: /root/.cache/pip/wheels/0b/de/d2/9be5d59d7331c6c2a7c1b6d1a4f463ce107332b1ecd4e80718\n",
            "Successfully built pyspark\n",
            "Installing collected packages: py4j, pyspark\n",
            "Successfully installed py4j-0.10.9.2 pyspark-3.2.0\n"
          ]
        }
      ]
    },
    {
      "cell_type": "code",
      "metadata": {
        "id": "QFOBm4xJns3i"
      },
      "source": [
        "from pyspark.sql import SparkSession\n",
        "spark = SparkSession.builder\\\n",
        "        .appName(\"testApp\")\\\n",
        "        .getOrCreate()"
      ],
      "execution_count": 2,
      "outputs": []
    },
    {
      "cell_type": "code",
      "metadata": {
        "id": "QyQrT3Z6ntzK"
      },
      "source": [
        "from pyspark.ml import Pipeline\n",
        "from pyspark.ml.classification import (RandomForestClassifier, GBTClassifier, DecisionTreeClassifier)"
      ],
      "execution_count": 3,
      "outputs": []
    },
    {
      "cell_type": "code",
      "metadata": {
        "id": "QCAxkYBjoSCr"
      },
      "source": [
        "data = spark.read.format('libsvm').load('sample_libsvm_data.txt')"
      ],
      "execution_count": 4,
      "outputs": []
    },
    {
      "cell_type": "code",
      "metadata": {
        "colab": {
          "base_uri": "https://localhost:8080/",
          "height": 417
        },
        "id": "odV0M0kYpRrG",
        "outputId": "8961a993-7286-4bd6-88bc-71ba31d4d0c9"
      },
      "source": [
        "data.toPandas()"
      ],
      "execution_count": null,
      "outputs": [
        {
          "output_type": "execute_result",
          "data": {
            "text/html": [
              "<div>\n",
              "<style scoped>\n",
              "    .dataframe tbody tr th:only-of-type {\n",
              "        vertical-align: middle;\n",
              "    }\n",
              "\n",
              "    .dataframe tbody tr th {\n",
              "        vertical-align: top;\n",
              "    }\n",
              "\n",
              "    .dataframe thead th {\n",
              "        text-align: right;\n",
              "    }\n",
              "</style>\n",
              "<table border=\"1\" class=\"dataframe\">\n",
              "  <thead>\n",
              "    <tr style=\"text-align: right;\">\n",
              "      <th></th>\n",
              "      <th>label</th>\n",
              "      <th>features</th>\n",
              "    </tr>\n",
              "  </thead>\n",
              "  <tbody>\n",
              "    <tr>\n",
              "      <th>0</th>\n",
              "      <td>0.0</td>\n",
              "      <td>(0.0, 0.0, 0.0, 0.0, 0.0, 0.0, 0.0, 0.0, 0.0, ...</td>\n",
              "    </tr>\n",
              "    <tr>\n",
              "      <th>1</th>\n",
              "      <td>1.0</td>\n",
              "      <td>(0.0, 0.0, 0.0, 0.0, 0.0, 0.0, 0.0, 0.0, 0.0, ...</td>\n",
              "    </tr>\n",
              "    <tr>\n",
              "      <th>2</th>\n",
              "      <td>1.0</td>\n",
              "      <td>(0.0, 0.0, 0.0, 0.0, 0.0, 0.0, 0.0, 0.0, 0.0, ...</td>\n",
              "    </tr>\n",
              "    <tr>\n",
              "      <th>3</th>\n",
              "      <td>1.0</td>\n",
              "      <td>(0.0, 0.0, 0.0, 0.0, 0.0, 0.0, 0.0, 0.0, 0.0, ...</td>\n",
              "    </tr>\n",
              "    <tr>\n",
              "      <th>4</th>\n",
              "      <td>1.0</td>\n",
              "      <td>(0.0, 0.0, 0.0, 0.0, 0.0, 0.0, 0.0, 0.0, 0.0, ...</td>\n",
              "    </tr>\n",
              "    <tr>\n",
              "      <th>...</th>\n",
              "      <td>...</td>\n",
              "      <td>...</td>\n",
              "    </tr>\n",
              "    <tr>\n",
              "      <th>95</th>\n",
              "      <td>0.0</td>\n",
              "      <td>(0.0, 0.0, 0.0, 0.0, 0.0, 0.0, 0.0, 0.0, 0.0, ...</td>\n",
              "    </tr>\n",
              "    <tr>\n",
              "      <th>96</th>\n",
              "      <td>0.0</td>\n",
              "      <td>(0.0, 0.0, 0.0, 0.0, 0.0, 0.0, 0.0, 0.0, 0.0, ...</td>\n",
              "    </tr>\n",
              "    <tr>\n",
              "      <th>97</th>\n",
              "      <td>0.0</td>\n",
              "      <td>(0.0, 0.0, 0.0, 0.0, 0.0, 0.0, 0.0, 0.0, 0.0, ...</td>\n",
              "    </tr>\n",
              "    <tr>\n",
              "      <th>98</th>\n",
              "      <td>1.0</td>\n",
              "      <td>(0.0, 0.0, 0.0, 0.0, 0.0, 0.0, 0.0, 0.0, 0.0, ...</td>\n",
              "    </tr>\n",
              "    <tr>\n",
              "      <th>99</th>\n",
              "      <td>1.0</td>\n",
              "      <td>(0.0, 0.0, 0.0, 0.0, 0.0, 0.0, 0.0, 0.0, 0.0, ...</td>\n",
              "    </tr>\n",
              "  </tbody>\n",
              "</table>\n",
              "<p>100 rows × 2 columns</p>\n",
              "</div>"
            ],
            "text/plain": [
              "    label                                           features\n",
              "0     0.0  (0.0, 0.0, 0.0, 0.0, 0.0, 0.0, 0.0, 0.0, 0.0, ...\n",
              "1     1.0  (0.0, 0.0, 0.0, 0.0, 0.0, 0.0, 0.0, 0.0, 0.0, ...\n",
              "2     1.0  (0.0, 0.0, 0.0, 0.0, 0.0, 0.0, 0.0, 0.0, 0.0, ...\n",
              "3     1.0  (0.0, 0.0, 0.0, 0.0, 0.0, 0.0, 0.0, 0.0, 0.0, ...\n",
              "4     1.0  (0.0, 0.0, 0.0, 0.0, 0.0, 0.0, 0.0, 0.0, 0.0, ...\n",
              "..    ...                                                ...\n",
              "95    0.0  (0.0, 0.0, 0.0, 0.0, 0.0, 0.0, 0.0, 0.0, 0.0, ...\n",
              "96    0.0  (0.0, 0.0, 0.0, 0.0, 0.0, 0.0, 0.0, 0.0, 0.0, ...\n",
              "97    0.0  (0.0, 0.0, 0.0, 0.0, 0.0, 0.0, 0.0, 0.0, 0.0, ...\n",
              "98    1.0  (0.0, 0.0, 0.0, 0.0, 0.0, 0.0, 0.0, 0.0, 0.0, ...\n",
              "99    1.0  (0.0, 0.0, 0.0, 0.0, 0.0, 0.0, 0.0, 0.0, 0.0, ...\n",
              "\n",
              "[100 rows x 2 columns]"
            ]
          },
          "metadata": {},
          "execution_count": 6
        }
      ]
    },
    {
      "cell_type": "code",
      "metadata": {
        "id": "4VVsx2mIpV5J"
      },
      "source": [
        "train_data, test_data = data.randomSplit([0.7, 0.3])"
      ],
      "execution_count": 5,
      "outputs": []
    },
    {
      "cell_type": "code",
      "metadata": {
        "id": "_WWNMX3DqeZh"
      },
      "source": [
        "dtc = DecisionTreeClassifier()\n",
        "rfc = RandomForestClassifier(numTrees = 100)\n",
        "gbt = GBTClassifier()"
      ],
      "execution_count": 6,
      "outputs": []
    },
    {
      "cell_type": "code",
      "metadata": {
        "id": "IxKnY9hOrE2j"
      },
      "source": [
        "dtc_model = dtc.fit(train_data)\n",
        "rfc_model = rfc.fit(train_data)\n",
        "gbt_model = gbt.fit(train_data)"
      ],
      "execution_count": 7,
      "outputs": []
    },
    {
      "cell_type": "markdown",
      "metadata": {
        "id": "c5kwMnNUwCtL"
      },
      "source": [
        "Compare the 3 models "
      ]
    },
    {
      "cell_type": "code",
      "metadata": {
        "id": "DSk9fRGGtjek"
      },
      "source": [
        "dtc_predictions = dtc_model.transform(test_data)\n",
        "rfc_predictions = rfc_model.transform(test_data)\n",
        "gbt_predictions = gbt_model.transform(test_data)"
      ],
      "execution_count": 8,
      "outputs": []
    },
    {
      "cell_type": "code",
      "metadata": {
        "id": "5ZiSTdlBMrFp"
      },
      "source": [
        "from pyspark.ml.evaluation import MulticlassClassificationEvaluator\n",
        "\n",
        "acc_eval = MulticlassClassificationEvaluator(metricName = 'accuracy')"
      ],
      "execution_count": 9,
      "outputs": []
    },
    {
      "cell_type": "code",
      "metadata": {
        "colab": {
          "base_uri": "https://localhost:8080/"
        },
        "id": "D5LKydwZM6o_",
        "outputId": "e40f2d0b-3112-4a19-b4ea-fd58942492d3"
      },
      "source": [
        "# Accuracy of Decision Tree Classifier \n",
        "acc_eval.evaluate(dtc_predictions)"
      ],
      "execution_count": 10,
      "outputs": [
        {
          "output_type": "execute_result",
          "data": {
            "text/plain": [
              "0.8"
            ]
          },
          "metadata": {},
          "execution_count": 10
        }
      ]
    },
    {
      "cell_type": "code",
      "metadata": {
        "colab": {
          "base_uri": "https://localhost:8080/"
        },
        "id": "r_La508eNavA",
        "outputId": "a715707b-60ee-49a5-d569-b887c71b8961"
      },
      "source": [
        "# Accuracy of Random Forest Classifier\n",
        "acc_eval.evaluate(rfc_predictions)"
      ],
      "execution_count": 11,
      "outputs": [
        {
          "output_type": "execute_result",
          "data": {
            "text/plain": [
              "1.0"
            ]
          },
          "metadata": {},
          "execution_count": 11
        }
      ]
    },
    {
      "cell_type": "code",
      "metadata": {
        "colab": {
          "base_uri": "https://localhost:8080/"
        },
        "id": "G-Frpdr7N6_C",
        "outputId": "561b6cc2-2510-4421-bc26-0c0433ed313b"
      },
      "source": [
        "# Accuracy of Gradient Boosting tree classifier\n",
        "\n",
        "acc_eval.evaluate(gbt_predictions)"
      ],
      "execution_count": 12,
      "outputs": [
        {
          "output_type": "execute_result",
          "data": {
            "text/plain": [
              "0.8"
            ]
          },
          "metadata": {},
          "execution_count": 12
        }
      ]
    },
    {
      "cell_type": "markdown",
      "metadata": {
        "id": "UYgQEBFAOoRr"
      },
      "source": [
        "Features importances "
      ]
    },
    {
      "cell_type": "code",
      "metadata": {
        "colab": {
          "base_uri": "https://localhost:8080/"
        },
        "id": "ZL2yJs8tOrEW",
        "outputId": "36bca6b8-a17f-4c1f-f2ad-c518b74008bd"
      },
      "source": [
        "# higher the number => more important feature \n",
        "\n",
        "rfc_model.featureImportances"
      ],
      "execution_count": 13,
      "outputs": [
        {
          "output_type": "execute_result",
          "data": {
            "text/plain": [
              "SparseVector(692, {120: 0.0011, 174: 0.0005, 183: 0.0025, 184: 0.0005, 203: 0.0005, 207: 0.0012, 209: 0.0003, 216: 0.0012, 234: 0.0055, 235: 0.007, 240: 0.0005, 243: 0.0009, 245: 0.0024, 259: 0.0024, 261: 0.0012, 262: 0.009, 273: 0.0169, 274: 0.0016, 290: 0.0147, 293: 0.0005, 295: 0.0027, 300: 0.008, 301: 0.0074, 314: 0.0017, 316: 0.0061, 319: 0.0002, 322: 0.0065, 323: 0.0084, 327: 0.0013, 329: 0.0235, 331: 0.0023, 345: 0.0067, 350: 0.0432, 351: 0.0305, 360: 0.0006, 373: 0.002, 377: 0.0007, 378: 0.0632, 379: 0.033, 380: 0.0074, 382: 0.0005, 384: 0.0027, 385: 0.0094, 386: 0.0069, 387: 0.0075, 400: 0.0097, 403: 0.0015, 405: 0.0034, 406: 0.0428, 407: 0.0286, 408: 0.0028, 413: 0.0075, 414: 0.0065, 426: 0.0077, 427: 0.0175, 428: 0.0024, 433: 0.0389, 434: 0.0095, 435: 0.0088, 436: 0.0039, 437: 0.0015, 440: 0.0026, 441: 0.0072, 442: 0.0139, 454: 0.0066, 455: 0.0338, 456: 0.0022, 460: 0.0103, 461: 0.0101, 462: 0.0114, 463: 0.0272, 468: 0.0055, 469: 0.0076, 472: 0.0013, 483: 0.022, 484: 0.0131, 485: 0.0005, 489: 0.035, 490: 0.0376, 495: 0.0011, 496: 0.0084, 497: 0.0018, 510: 0.0009, 511: 0.0579, 512: 0.0219, 513: 0.0023, 516: 0.0014, 517: 0.0193, 518: 0.0096, 519: 0.0008, 520: 0.0004, 523: 0.0017, 539: 0.0033, 540: 0.0286, 544: 0.0012, 545: 0.0044, 548: 0.0006, 567: 0.0074, 569: 0.0143, 574: 0.0011, 576: 0.0004, 579: 0.0058, 598: 0.0007, 605: 0.0047, 626: 0.0009, 633: 0.0013, 634: 0.0015, 637: 0.0012, 653: 0.0005, 662: 0.0009})"
            ]
          },
          "metadata": {},
          "execution_count": 13
        }
      ]
    }
  ]
}