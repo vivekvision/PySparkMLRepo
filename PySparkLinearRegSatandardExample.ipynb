{
  "nbformat": 4,
  "nbformat_minor": 0,
  "metadata": {
    "colab": {
      "name": "PySparkLinearRegSatandardExample.ipynb",
      "provenance": [],
      "collapsed_sections": [],
      "mount_file_id": "1RfJv7fB9ZQ7vxYgnw25OMDBdpLFlsndQ",
      "authorship_tag": "ABX9TyPKlBpkGvZjQMX6MmdzdBnB",
      "include_colab_link": true
    },
    "kernelspec": {
      "name": "python3",
      "display_name": "Python 3"
    },
    "language_info": {
      "name": "python"
    }
  },
  "cells": [
    {
      "cell_type": "markdown",
      "metadata": {
        "id": "view-in-github",
        "colab_type": "text"
      },
      "source": [
        "<a href=\"https://colab.research.google.com/github/vivekvision/PySparkMLRepo/blob/main/PySparkLinearRegSatandardExample.ipynb\" target=\"_parent\"><img src=\"https://colab.research.google.com/assets/colab-badge.svg\" alt=\"Open In Colab\"/></a>"
      ]
    },
    {
      "cell_type": "code",
      "metadata": {
        "colab": {
          "base_uri": "https://localhost:8080/"
        },
        "id": "e0f0JiMT5JFu",
        "outputId": "2a1ba58e-0d57-42bf-848f-5c21585f6156"
      },
      "source": [
        "!pip install pyspark"
      ],
      "execution_count": 2,
      "outputs": [
        {
          "output_type": "stream",
          "name": "stdout",
          "text": [
            "Collecting pyspark\n",
            "  Downloading pyspark-3.2.0.tar.gz (281.3 MB)\n",
            "\u001b[K     |████████████████████████████████| 281.3 MB 28 kB/s \n",
            "\u001b[?25hCollecting py4j==0.10.9.2\n",
            "  Downloading py4j-0.10.9.2-py2.py3-none-any.whl (198 kB)\n",
            "\u001b[K     |████████████████████████████████| 198 kB 59.6 MB/s \n",
            "\u001b[?25hBuilding wheels for collected packages: pyspark\n",
            "  Building wheel for pyspark (setup.py) ... \u001b[?25l\u001b[?25hdone\n",
            "  Created wheel for pyspark: filename=pyspark-3.2.0-py2.py3-none-any.whl size=281805912 sha256=6b9a13c348942a24de02f90cb9cb91705ad3a712a461312f4c6791b441a65364\n",
            "  Stored in directory: /root/.cache/pip/wheels/0b/de/d2/9be5d59d7331c6c2a7c1b6d1a4f463ce107332b1ecd4e80718\n",
            "Successfully built pyspark\n",
            "Installing collected packages: py4j, pyspark\n",
            "Successfully installed py4j-0.10.9.2 pyspark-3.2.0\n"
          ]
        }
      ]
    },
    {
      "cell_type": "code",
      "metadata": {
        "id": "mpYkd-wl5mc9"
      },
      "source": [
        "from pyspark.sql import SparkSession\n",
        "spark = SparkSession.builder\\\n",
        "        .master(\"local\")\\\n",
        "        .appName(\"Colab\")\\\n",
        "        .config('spark.ui.port', '4050')\\\n",
        "        .getOrCreate()"
      ],
      "execution_count": 3,
      "outputs": []
    },
    {
      "cell_type": "code",
      "metadata": {
        "colab": {
          "base_uri": "https://localhost:8080/",
          "height": 214
        },
        "id": "IzgZJNqy5sH2",
        "outputId": "7922715c-4b9b-45cf-ffaa-252257fbadd8"
      },
      "source": [
        "spark"
      ],
      "execution_count": 4,
      "outputs": [
        {
          "output_type": "execute_result",
          "data": {
            "text/html": [
              "\n",
              "            <div>\n",
              "                <p><b>SparkSession - in-memory</b></p>\n",
              "                \n",
              "        <div>\n",
              "            <p><b>SparkContext</b></p>\n",
              "\n",
              "            <p><a href=\"http://363d88bfa2ed:4050\">Spark UI</a></p>\n",
              "\n",
              "            <dl>\n",
              "              <dt>Version</dt>\n",
              "                <dd><code>v3.2.0</code></dd>\n",
              "              <dt>Master</dt>\n",
              "                <dd><code>local</code></dd>\n",
              "              <dt>AppName</dt>\n",
              "                <dd><code>Colab</code></dd>\n",
              "            </dl>\n",
              "        </div>\n",
              "        \n",
              "            </div>\n",
              "        "
            ],
            "text/plain": [
              "<pyspark.sql.session.SparkSession at 0x7f57cb300290>"
            ]
          },
          "metadata": {},
          "execution_count": 4
        }
      ]
    },
    {
      "cell_type": "code",
      "metadata": {
        "id": "u6eWGc2E6F61"
      },
      "source": [
        "from pyspark.ml.regression import LinearRegression"
      ],
      "execution_count": 5,
      "outputs": []
    },
    {
      "cell_type": "code",
      "metadata": {
        "id": "kNRNzCev5vI9"
      },
      "source": [
        "training = spark.read.format('libsvm').load('sample_linear_regression_data.txt')"
      ],
      "execution_count": 6,
      "outputs": []
    },
    {
      "cell_type": "code",
      "metadata": {
        "colab": {
          "base_uri": "https://localhost:8080/"
        },
        "id": "NcZ_NxSK7CT_",
        "outputId": "cf08daa6-cc95-4afa-efbe-86ec3193bd9d"
      },
      "source": [
        "training.show()"
      ],
      "execution_count": 7,
      "outputs": [
        {
          "output_type": "stream",
          "name": "stdout",
          "text": [
            "+-------------------+--------------------+\n",
            "|              label|            features|\n",
            "+-------------------+--------------------+\n",
            "| -9.490009878824548|(10,[0,1,2,3,4,5,...|\n",
            "| 0.2577820163584905|(10,[0,1,2,3,4,5,...|\n",
            "| -4.438869807456516|(10,[0,1,2,3,4,5,...|\n",
            "|-19.782762789614537|(10,[0,1,2,3,4,5,...|\n",
            "| -7.966593841555266|(10,[0,1,2,3,4,5,...|\n",
            "| -7.896274316726144|(10,[0,1,2,3,4,5,...|\n",
            "| -8.464803554195287|(10,[0,1,2,3,4,5,...|\n",
            "| 2.1214592666251364|(10,[0,1,2,3,4,5,...|\n",
            "| 1.0720117616524107|(10,[0,1,2,3,4,5,...|\n",
            "|-13.772441561702871|(10,[0,1,2,3,4,5,...|\n",
            "| -5.082010756207233|(10,[0,1,2,3,4,5,...|\n",
            "|  7.887786536531237|(10,[0,1,2,3,4,5,...|\n",
            "| 14.323146365332388|(10,[0,1,2,3,4,5,...|\n",
            "|-20.057482615789212|(10,[0,1,2,3,4,5,...|\n",
            "|-0.8995693247765151|(10,[0,1,2,3,4,5,...|\n",
            "| -19.16829262296376|(10,[0,1,2,3,4,5,...|\n",
            "|  5.601801561245534|(10,[0,1,2,3,4,5,...|\n",
            "|-3.2256352187273354|(10,[0,1,2,3,4,5,...|\n",
            "| 1.5299675726687754|(10,[0,1,2,3,4,5,...|\n",
            "| -0.250102447941961|(10,[0,1,2,3,4,5,...|\n",
            "+-------------------+--------------------+\n",
            "only showing top 20 rows\n",
            "\n"
          ]
        }
      ]
    },
    {
      "cell_type": "code",
      "metadata": {
        "id": "mAlp03337T0t"
      },
      "source": [
        "lr = LinearRegression(featuresCol='features', labelCol='label', predictionCol='prediction')\n",
        "lrModel = lr.fit(training)\n"
      ],
      "execution_count": 8,
      "outputs": []
    },
    {
      "cell_type": "code",
      "metadata": {
        "colab": {
          "base_uri": "https://localhost:8080/"
        },
        "id": "MPK2ZBo67sy4",
        "outputId": "b6da58e2-4cd5-404a-f999-31e8abae0174"
      },
      "source": [
        "lrModel.intercept"
      ],
      "execution_count": 9,
      "outputs": [
        {
          "output_type": "execute_result",
          "data": {
            "text/plain": [
              "0.14228558260358093"
            ]
          },
          "metadata": {},
          "execution_count": 9
        }
      ]
    },
    {
      "cell_type": "code",
      "metadata": {
        "colab": {
          "base_uri": "https://localhost:8080/"
        },
        "id": "7mnCPbDY7weN",
        "outputId": "ac1902f4-243e-453a-f2cf-00dd82c74124"
      },
      "source": [
        "lrModel.coefficients"
      ],
      "execution_count": 10,
      "outputs": [
        {
          "output_type": "execute_result",
          "data": {
            "text/plain": [
              "DenseVector([0.0073, 0.8314, -0.8095, 2.4412, 0.5192, 1.1535, -0.2989, -0.5129, -0.6197, 0.6956])"
            ]
          },
          "metadata": {},
          "execution_count": 10
        }
      ]
    },
    {
      "cell_type": "code",
      "metadata": {
        "id": "9oe6Z-k972cH"
      },
      "source": [
        "training_summary = lrModel.summary"
      ],
      "execution_count": 12,
      "outputs": []
    },
    {
      "cell_type": "code",
      "metadata": {
        "colab": {
          "base_uri": "https://localhost:8080/"
        },
        "id": "ypZBHmZz8fJt",
        "outputId": "2cc0ef1d-56e0-422e-e58f-ded2b8b44928"
      },
      "source": [
        "# Display R-Square \n",
        "training_summary.r2"
      ],
      "execution_count": 13,
      "outputs": [
        {
          "output_type": "execute_result",
          "data": {
            "text/plain": [
              "0.027839179518600154"
            ]
          },
          "metadata": {},
          "execution_count": 13
        }
      ]
    },
    {
      "cell_type": "code",
      "metadata": {
        "colab": {
          "base_uri": "https://localhost:8080/"
        },
        "id": "fa-Vocgo8oyl",
        "outputId": "0351f8e0-4595-4367-a22d-b991c8236973"
      },
      "source": [
        "training_summary.rootMeanSquaredError"
      ],
      "execution_count": 14,
      "outputs": [
        {
          "output_type": "execute_result",
          "data": {
            "text/plain": [
              "10.16309157133015"
            ]
          },
          "metadata": {},
          "execution_count": 14
        }
      ]
    },
    {
      "cell_type": "code",
      "metadata": {
        "id": "sKlmiZ8j9V8P"
      },
      "source": [
        "all_data = spark.read.format('libsvm').load('sample_linear_regression_data.txt')"
      ],
      "execution_count": 15,
      "outputs": []
    },
    {
      "cell_type": "code",
      "metadata": {
        "id": "5EZdKhAv9zCb"
      },
      "source": [
        "train_data, test_data = all_data.randomSplit([0.7, 0.3])"
      ],
      "execution_count": 17,
      "outputs": []
    },
    {
      "cell_type": "code",
      "metadata": {
        "colab": {
          "base_uri": "https://localhost:8080/"
        },
        "id": "BKPdTp0B-pDm",
        "outputId": "eaa5f4e9-5eb1-4b4f-9862-037135b16a58"
      },
      "source": [
        "train_data.describe().show()"
      ],
      "execution_count": 18,
      "outputs": [
        {
          "output_type": "stream",
          "name": "stdout",
          "text": [
            "+-------+-------------------+\n",
            "|summary|              label|\n",
            "+-------+-------------------+\n",
            "|  count|                335|\n",
            "|   mean| 0.4191189486108615|\n",
            "| stddev| 10.228520749441586|\n",
            "|    min|-26.805483428483072|\n",
            "|    max|  27.78383192005107|\n",
            "+-------+-------------------+\n",
            "\n"
          ]
        }
      ]
    },
    {
      "cell_type": "code",
      "metadata": {
        "colab": {
          "base_uri": "https://localhost:8080/"
        },
        "id": "q9QqRpbi-1N2",
        "outputId": "e6f413d9-be2f-4525-d9fe-bc79dbaaaca2"
      },
      "source": [
        "test_data.describe().show()"
      ],
      "execution_count": 19,
      "outputs": [
        {
          "output_type": "stream",
          "name": "stdout",
          "text": [
            "+-------+--------------------+\n",
            "|summary|               label|\n",
            "+-------+--------------------+\n",
            "|  count|                 166|\n",
            "|   mean|-0.07050330039125352|\n",
            "| stddev|  10.519475509230222|\n",
            "|    min| -28.571478869743427|\n",
            "|    max|  27.111027963108548|\n",
            "+-------+--------------------+\n",
            "\n"
          ]
        }
      ]
    },
    {
      "cell_type": "code",
      "metadata": {
        "id": "L8N8i-hT-_T2"
      },
      "source": [
        "model = lr.fit(train_data)"
      ],
      "execution_count": 20,
      "outputs": []
    },
    {
      "cell_type": "code",
      "metadata": {
        "id": "2UtZcUYP_K-V"
      },
      "source": [
        "test_results = model.evaluate(test_data)"
      ],
      "execution_count": 21,
      "outputs": []
    },
    {
      "cell_type": "code",
      "metadata": {
        "colab": {
          "base_uri": "https://localhost:8080/"
        },
        "id": "DnXMGmWJ_Slo",
        "outputId": "b7151806-2013-42de-f1c0-83460e5c633c"
      },
      "source": [
        "test_results.residuals.show()"
      ],
      "execution_count": 22,
      "outputs": [
        {
          "output_type": "stream",
          "name": "stderr",
          "text": [
            "/usr/local/lib/python3.7/dist-packages/pyspark/sql/context.py:127: FutureWarning: Deprecated in 3.0.0. Use SparkSession.builder.getOrCreate() instead.\n",
            "  FutureWarning\n"
          ]
        },
        {
          "output_type": "stream",
          "name": "stdout",
          "text": [
            "+-------------------+\n",
            "|          residuals|\n",
            "+-------------------+\n",
            "|-26.785795977706627|\n",
            "|-26.439971138306166|\n",
            "| -21.95880977234844|\n",
            "|-21.239830597550704|\n",
            "|-21.399272119038404|\n",
            "| -19.19673459536863|\n",
            "|-19.947785280699836|\n",
            "| -20.52686855774079|\n",
            "|  -19.2463834941745|\n",
            "|-15.903489460315273|\n",
            "|-19.472133063202904|\n",
            "|-19.212777153298646|\n",
            "|-14.689555851160206|\n",
            "|-15.681449104883981|\n",
            "|-15.326577951524506|\n",
            "|-18.929276515402954|\n",
            "|-13.581661416914546|\n",
            "|-14.479869194616164|\n",
            "|-12.753893207987593|\n",
            "| -12.73735537431409|\n",
            "+-------------------+\n",
            "only showing top 20 rows\n",
            "\n"
          ]
        }
      ]
    },
    {
      "cell_type": "code",
      "metadata": {
        "colab": {
          "base_uri": "https://localhost:8080/"
        },
        "id": "ICbbcVu3_ZW3",
        "outputId": "6a79f0c1-1c4d-4e78-f422-ec1826dbd2ca"
      },
      "source": [
        "test_results.rootMeanSquaredError"
      ],
      "execution_count": 23,
      "outputs": [
        {
          "output_type": "execute_result",
          "data": {
            "text/plain": [
              "10.834834943855073"
            ]
          },
          "metadata": {},
          "execution_count": 23
        }
      ]
    },
    {
      "cell_type": "code",
      "metadata": {
        "id": "1K5UpXa4_tMv"
      },
      "source": [
        "# predict on new data\n",
        "\n",
        "unlabeled_data = test_data.select('features')"
      ],
      "execution_count": 24,
      "outputs": []
    },
    {
      "cell_type": "code",
      "metadata": {
        "colab": {
          "base_uri": "https://localhost:8080/"
        },
        "id": "eCAPrkYnA_5F",
        "outputId": "bf38d4b5-be4a-4099-a03b-40283f7cba97"
      },
      "source": [
        "unlabeled_data.show()"
      ],
      "execution_count": 25,
      "outputs": [
        {
          "output_type": "stream",
          "name": "stdout",
          "text": [
            "+--------------------+\n",
            "|            features|\n",
            "+--------------------+\n",
            "|(10,[0,1,2,3,4,5,...|\n",
            "|(10,[0,1,2,3,4,5,...|\n",
            "|(10,[0,1,2,3,4,5,...|\n",
            "|(10,[0,1,2,3,4,5,...|\n",
            "|(10,[0,1,2,3,4,5,...|\n",
            "|(10,[0,1,2,3,4,5,...|\n",
            "|(10,[0,1,2,3,4,5,...|\n",
            "|(10,[0,1,2,3,4,5,...|\n",
            "|(10,[0,1,2,3,4,5,...|\n",
            "|(10,[0,1,2,3,4,5,...|\n",
            "|(10,[0,1,2,3,4,5,...|\n",
            "|(10,[0,1,2,3,4,5,...|\n",
            "|(10,[0,1,2,3,4,5,...|\n",
            "|(10,[0,1,2,3,4,5,...|\n",
            "|(10,[0,1,2,3,4,5,...|\n",
            "|(10,[0,1,2,3,4,5,...|\n",
            "|(10,[0,1,2,3,4,5,...|\n",
            "|(10,[0,1,2,3,4,5,...|\n",
            "|(10,[0,1,2,3,4,5,...|\n",
            "|(10,[0,1,2,3,4,5,...|\n",
            "+--------------------+\n",
            "only showing top 20 rows\n",
            "\n"
          ]
        }
      ]
    },
    {
      "cell_type": "code",
      "metadata": {
        "id": "MTwvZJbYBEm-"
      },
      "source": [
        "predictions = model.transform(unlabeled_data)"
      ],
      "execution_count": 26,
      "outputs": []
    },
    {
      "cell_type": "code",
      "metadata": {
        "colab": {
          "base_uri": "https://localhost:8080/"
        },
        "id": "QzHYe2dhBQM2",
        "outputId": "699be77b-eada-41b9-b2d9-2dc139eaaf67"
      },
      "source": [
        "predictions.show()"
      ],
      "execution_count": 27,
      "outputs": [
        {
          "output_type": "stream",
          "name": "stdout",
          "text": [
            "+--------------------+--------------------+\n",
            "|            features|          prediction|\n",
            "+--------------------+--------------------+\n",
            "|(10,[0,1,2,3,4,5,...|    -1.7856828920368|\n",
            "|(10,[0,1,2,3,4,5,...| -1.6060468994704657|\n",
            "|(10,[0,1,2,3,4,5,...|  0.5264220081826368|\n",
            "|(10,[0,1,2,3,4,5,...|   1.182347981761493|\n",
            "|(10,[0,1,2,3,4,5,...|  1.5147113447649794|\n",
            "|(10,[0,1,2,3,4,5,...| -0.6762564426997767|\n",
            "|(10,[0,1,2,3,4,5,...| 0.16502249108529854|\n",
            "|(10,[0,1,2,3,4,5,...|  0.8595499423690693|\n",
            "|(10,[0,1,2,3,4,5,...|  -0.155952536040055|\n",
            "|(10,[0,1,2,3,4,5,...| -0.8156073732898166|\n",
            "|(10,[0,1,2,3,4,5,...|  2.7799260418917964|\n",
            "|(10,[0,1,2,3,4,5,...|   2.951346877845916|\n",
            "|(10,[0,1,2,3,4,5,...| -1.2619567146343673|\n",
            "|(10,[0,1,2,3,4,5,...|-0.05063916735526408|\n",
            "|(10,[0,1,2,3,4,5,...|-0.11080684190671075|\n",
            "|(10,[0,1,2,3,4,5,...|   3.594509035480612|\n",
            "|(10,[0,1,2,3,4,5,...|  -1.181096836016581|\n",
            "|(10,[0,1,2,3,4,5,...|  0.5037382634634608|\n",
            "|(10,[0,1,2,3,4,5,...| -0.6667015679031644|\n",
            "|(10,[0,1,2,3,4,5,...|-0.30257268979052465|\n",
            "+--------------------+--------------------+\n",
            "only showing top 20 rows\n",
            "\n"
          ]
        }
      ]
    },
    {
      "cell_type": "code",
      "metadata": {
        "id": "niL-cJpELIc7"
      },
      "source": [
        ""
      ],
      "execution_count": null,
      "outputs": []
    }
  ]
}