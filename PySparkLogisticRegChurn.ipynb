{
  "nbformat": 4,
  "nbformat_minor": 0,
  "metadata": {
    "colab": {
      "name": "PySparkLogisticRegChurn.ipynb",
      "provenance": [],
      "collapsed_sections": [],
      "authorship_tag": "ABX9TyOscqD86uz6LhX+L1DgYrJl",
      "include_colab_link": true
    },
    "kernelspec": {
      "name": "python3",
      "display_name": "Python 3"
    },
    "language_info": {
      "name": "python"
    }
  },
  "cells": [
    {
      "cell_type": "markdown",
      "metadata": {
        "id": "view-in-github",
        "colab_type": "text"
      },
      "source": [
        "<a href=\"https://colab.research.google.com/github/vivekvision/PySparkMLRepo/blob/main/PySparkLogisticRegChurn.ipynb\" target=\"_parent\"><img src=\"https://colab.research.google.com/assets/colab-badge.svg\" alt=\"Open In Colab\"/></a>"
      ]
    },
    {
      "cell_type": "code",
      "metadata": {
        "colab": {
          "base_uri": "https://localhost:8080/"
        },
        "id": "3S4dA0PMIIB7",
        "outputId": "ae6e0e7c-7ad6-4ef3-cc44-585c9d9fc3d1"
      },
      "source": [
        "!pip install pyspark"
      ],
      "execution_count": 1,
      "outputs": [
        {
          "output_type": "stream",
          "name": "stdout",
          "text": [
            "Collecting pyspark\n",
            "  Downloading pyspark-3.2.0.tar.gz (281.3 MB)\n",
            "\u001b[K     |████████████████████████████████| 281.3 MB 38 kB/s \n",
            "\u001b[?25hCollecting py4j==0.10.9.2\n",
            "  Downloading py4j-0.10.9.2-py2.py3-none-any.whl (198 kB)\n",
            "\u001b[K     |████████████████████████████████| 198 kB 31.8 MB/s \n",
            "\u001b[?25hBuilding wheels for collected packages: pyspark\n",
            "  Building wheel for pyspark (setup.py) ... \u001b[?25l\u001b[?25hdone\n",
            "  Created wheel for pyspark: filename=pyspark-3.2.0-py2.py3-none-any.whl size=281805912 sha256=93eedd4183f70382b4a1787d226a7b169ef1244579242daec6e4b37533fe01d2\n",
            "  Stored in directory: /root/.cache/pip/wheels/0b/de/d2/9be5d59d7331c6c2a7c1b6d1a4f463ce107332b1ecd4e80718\n",
            "Successfully built pyspark\n",
            "Installing collected packages: py4j, pyspark\n",
            "Successfully installed py4j-0.10.9.2 pyspark-3.2.0\n"
          ]
        }
      ]
    },
    {
      "cell_type": "markdown",
      "metadata": {
        "id": "7SmFft5SIims"
      },
      "source": [
        "Customer Churn means customer will stop buying the service"
      ]
    },
    {
      "cell_type": "code",
      "metadata": {
        "id": "V3A8iVGGIrey"
      },
      "source": [
        "from pyspark.sql import SparkSession\n",
        "spark = SparkSession.builder\\\n",
        "        .appName(\"testApp\")\\\n",
        "        .getOrCreate()"
      ],
      "execution_count": 5,
      "outputs": []
    },
    {
      "cell_type": "code",
      "metadata": {
        "id": "P0mL7LqMI1Lh"
      },
      "source": [
        "from pyspark.sql import functions as sf"
      ],
      "execution_count": 6,
      "outputs": []
    },
    {
      "cell_type": "code",
      "metadata": {
        "id": "ZdsZKe60I_XB"
      },
      "source": [
        "data = spark.read.csv('customer_churn.csv', inferSchema=True, header=True)\n"
      ],
      "execution_count": 7,
      "outputs": []
    },
    {
      "cell_type": "code",
      "metadata": {
        "colab": {
          "base_uri": "https://localhost:8080/"
        },
        "id": "yz68V218KWUZ",
        "outputId": "33585aa5-9bd9-4959-cd64-77bc9c08afe2"
      },
      "source": [
        "data.printSchema()"
      ],
      "execution_count": 8,
      "outputs": [
        {
          "output_type": "stream",
          "name": "stdout",
          "text": [
            "root\n",
            " |-- Names: string (nullable = true)\n",
            " |-- Age: double (nullable = true)\n",
            " |-- Total_Purchase: double (nullable = true)\n",
            " |-- Account_Manager: integer (nullable = true)\n",
            " |-- Years: double (nullable = true)\n",
            " |-- Num_Sites: double (nullable = true)\n",
            " |-- Onboard_date: string (nullable = true)\n",
            " |-- Location: string (nullable = true)\n",
            " |-- Company: string (nullable = true)\n",
            " |-- Churn: integer (nullable = true)\n",
            "\n"
          ]
        }
      ]
    },
    {
      "cell_type": "code",
      "metadata": {
        "colab": {
          "base_uri": "https://localhost:8080/"
        },
        "id": "tAbqXrpHRME6",
        "outputId": "6a21941b-67c6-401c-9f52-4391085deaf4"
      },
      "source": [
        "data.describe().show()"
      ],
      "execution_count": 9,
      "outputs": [
        {
          "output_type": "stream",
          "name": "stdout",
          "text": [
            "+-------+-------------+-----------------+-----------------+------------------+-----------------+------------------+-------------------+--------------------+--------------------+-------------------+\n",
            "|summary|        Names|              Age|   Total_Purchase|   Account_Manager|            Years|         Num_Sites|       Onboard_date|            Location|             Company|              Churn|\n",
            "+-------+-------------+-----------------+-----------------+------------------+-----------------+------------------+-------------------+--------------------+--------------------+-------------------+\n",
            "|  count|          900|              900|              900|               900|              900|               900|                900|                 900|                 900|                900|\n",
            "|   mean|         null|41.81666666666667|10062.82403333334|0.4811111111111111| 5.27315555555555| 8.587777777777777|               null|                null|                null|0.16666666666666666|\n",
            "| stddev|         null|6.127560416916251|2408.644531858096|0.4999208935073339|1.274449013194616|1.7648355920350969|               null|                null|                null| 0.3728852122772358|\n",
            "|    min|   Aaron King|             22.0|            100.0|                 0|              1.0|               3.0|2006-01-02 04:16:13|00103 Jeffrey Cre...|     Abbott-Thompson|                  0|\n",
            "|    max|Zachary Walsh|             65.0|         18026.01|                 1|             9.15|              14.0|2016-12-28 04:07:38|Unit 9800 Box 287...|Zuniga, Clark and...|                  1|\n",
            "+-------+-------------+-----------------+-----------------+------------------+-----------------+------------------+-------------------+--------------------+--------------------+-------------------+\n",
            "\n"
          ]
        }
      ]
    },
    {
      "cell_type": "code",
      "metadata": {
        "colab": {
          "base_uri": "https://localhost:8080/"
        },
        "id": "BzJyS6vwRTuB",
        "outputId": "36e83ad1-bfc9-47da-bb67-5fe838a23e2f"
      },
      "source": [
        "data.columns"
      ],
      "execution_count": 10,
      "outputs": [
        {
          "output_type": "execute_result",
          "data": {
            "text/plain": [
              "['Names',\n",
              " 'Age',\n",
              " 'Total_Purchase',\n",
              " 'Account_Manager',\n",
              " 'Years',\n",
              " 'Num_Sites',\n",
              " 'Onboard_date',\n",
              " 'Location',\n",
              " 'Company',\n",
              " 'Churn']"
            ]
          },
          "metadata": {},
          "execution_count": 10
        }
      ]
    },
    {
      "cell_type": "code",
      "metadata": {
        "id": "pJ08k5lIRWsw"
      },
      "source": [
        "from pyspark.ml.feature import VectorAssembler\n",
        "assembler = VectorAssembler(inputCols=[ 'Age','Total_Purchase','Account_Manager','Years','Num_Sites'], outputCol = 'features')"
      ],
      "execution_count": 12,
      "outputs": []
    },
    {
      "cell_type": "code",
      "metadata": {
        "id": "4AKVIi8UUWez"
      },
      "source": [
        "output = assembler.transform(data)\n",
        "final_data = output.select('features','churn')"
      ],
      "execution_count": 14,
      "outputs": []
    },
    {
      "cell_type": "code",
      "metadata": {
        "id": "aTliQdepUpm5"
      },
      "source": [
        "train_churn, test_churn = final_data.randomSplit([0.7,0.3])"
      ],
      "execution_count": 15,
      "outputs": []
    },
    {
      "cell_type": "code",
      "metadata": {
        "id": "Cg5nKW37V3pB"
      },
      "source": [
        "from pyspark.ml.classification import LogisticRegression\n",
        "lr_churn = LogisticRegression(labelCol='churn')"
      ],
      "execution_count": 16,
      "outputs": []
    },
    {
      "cell_type": "code",
      "metadata": {
        "id": "KyldQ9p9WiZB"
      },
      "source": [
        "fitted_churn_model = lr_churn.fit(train_churn)\n",
        "training_summary = fitted_churn_model.summary"
      ],
      "execution_count": 18,
      "outputs": []
    },
    {
      "cell_type": "code",
      "metadata": {
        "colab": {
          "base_uri": "https://localhost:8080/"
        },
        "id": "-twElS0LX7xR",
        "outputId": "5b13f580-2ac3-486a-e10e-b0ba82b7783c"
      },
      "source": [
        "training_summary.predictions.describe().show()"
      ],
      "execution_count": 19,
      "outputs": [
        {
          "output_type": "stream",
          "name": "stderr",
          "text": [
            "/usr/local/lib/python3.7/dist-packages/pyspark/sql/context.py:127: FutureWarning: Deprecated in 3.0.0. Use SparkSession.builder.getOrCreate() instead.\n",
            "  FutureWarning\n"
          ]
        },
        {
          "output_type": "stream",
          "name": "stdout",
          "text": [
            "+-------+------------------+-------------------+\n",
            "|summary|             churn|         prediction|\n",
            "+-------+------------------+-------------------+\n",
            "|  count|               656|                656|\n",
            "|   mean|0.1524390243902439|0.10823170731707317|\n",
            "| stddev| 0.359720199920017| 0.3109098904348499|\n",
            "|    min|               0.0|                0.0|\n",
            "|    max|               1.0|                1.0|\n",
            "+-------+------------------+-------------------+\n",
            "\n"
          ]
        }
      ]
    },
    {
      "cell_type": "code",
      "metadata": {
        "colab": {
          "base_uri": "https://localhost:8080/"
        },
        "id": "yFTKetzhYQxF",
        "outputId": "22bc6ea6-1f47-47bb-97fa-e57a8bbe24da"
      },
      "source": [
        "evaluate_labels = fitted_churn_model.evaluate(test_churn)\n",
        "evaluate_labels.predictions.show()"
      ],
      "execution_count": 22,
      "outputs": [
        {
          "output_type": "stream",
          "name": "stderr",
          "text": [
            "/usr/local/lib/python3.7/dist-packages/pyspark/sql/context.py:127: FutureWarning: Deprecated in 3.0.0. Use SparkSession.builder.getOrCreate() instead.\n",
            "  FutureWarning\n"
          ]
        },
        {
          "output_type": "stream",
          "name": "stdout",
          "text": [
            "+--------------------+-----+--------------------+--------------------+----------+\n",
            "|            features|churn|       rawPrediction|         probability|prediction|\n",
            "+--------------------+-----+--------------------+--------------------+----------+\n",
            "|[25.0,9672.03,0.0...|    0|[4.81301029325386...|[0.99194208826049...|       0.0|\n",
            "|[27.0,8628.8,1.0,...|    0|[5.37097380480602...|[0.99537191743782...|       0.0|\n",
            "|[28.0,9090.43,1.0...|    0|[1.49705679024555...|[0.81713509653522...|       0.0|\n",
            "|[28.0,11128.95,1....|    0|[4.07132619301655...|[0.98323123164094...|       0.0|\n",
            "|[29.0,8688.17,1.0...|    1|[2.66705773419085...|[0.93505458346895...|       0.0|\n",
            "|[29.0,9617.59,0.0...|    0|[4.57650645473011...|[0.98981403666405...|       0.0|\n",
            "|[30.0,6744.87,0.0...|    0|[3.68884564264661...|[0.97560895152858...|       0.0|\n",
            "|[30.0,8874.83,0.0...|    0|[3.33947538654346...|[0.96575849809229...|       0.0|\n",
            "|[30.0,10960.52,1....|    0|[2.33362507007510...|[0.91162382962627...|       0.0|\n",
            "|[31.0,5387.75,0.0...|    0|[2.81861121143676...|[0.94367329221516...|       0.0|\n",
            "|[31.0,7073.61,0.0...|    0|[3.29788098885815...|[0.96435604460182...|       0.0|\n",
            "|[31.0,10182.6,1.0...|    0|[4.66056896384184...|[0.99062759519276...|       0.0|\n",
            "|[31.0,11297.57,1....|    1|[0.92629562416347...|[0.71632314398674...|       0.0|\n",
            "|[32.0,7896.65,0.0...|    0|[3.63986884236296...|[0.97441594219531...|       0.0|\n",
            "|[32.0,9472.72,1.0...|    0|[3.73533232538339...|[0.97669103528131...|       0.0|\n",
            "|[32.0,12142.99,0....|    0|[5.68316640381031...|[0.99660877272245...|       0.0|\n",
            "|[32.0,12254.75,1....|    0|[2.47379111427858...|[0.92228393323376...|       0.0|\n",
            "|[32.0,12479.72,0....|    0|[4.65765412021032...|[0.99060049340475...|       0.0|\n",
            "|[33.0,8556.73,0.0...|    0|[3.89103284706726...|[0.97998456012443...|       0.0|\n",
            "|[33.0,10309.71,1....|    0|[6.14515028581701...|[0.99786073259938...|       0.0|\n",
            "+--------------------+-----+--------------------+--------------------+----------+\n",
            "only showing top 20 rows\n",
            "\n"
          ]
        }
      ]
    },
    {
      "cell_type": "code",
      "metadata": {
        "colab": {
          "base_uri": "https://localhost:8080/"
        },
        "id": "QwnkhmSsY4wI",
        "outputId": "5490cabe-6c0d-4dee-b4d7-85baabe4ca4e"
      },
      "source": [
        "# check area under the curve \n",
        "\n",
        "from pyspark.ml.evaluation import BinaryClassificationEvaluator\n",
        "\n",
        "churn_eval = BinaryClassificationEvaluator(rawPredictionCol='prediction', labelCol='churn')\n",
        "# auc - area under curve \n",
        "auc = churn_eval.evaluate(evaluate_labels.predictions)\n",
        "auc"
      ],
      "execution_count": 24,
      "outputs": [
        {
          "output_type": "stream",
          "name": "stderr",
          "text": [
            "/usr/local/lib/python3.7/dist-packages/pyspark/sql/context.py:127: FutureWarning: Deprecated in 3.0.0. Use SparkSession.builder.getOrCreate() instead.\n",
            "  FutureWarning\n"
          ]
        },
        {
          "output_type": "execute_result",
          "data": {
            "text/plain": [
              "0.7468041237113402"
            ]
          },
          "metadata": {},
          "execution_count": 24
        }
      ]
    },
    {
      "cell_type": "markdown",
      "metadata": {
        "id": "SNBGUSOMbKFR"
      },
      "source": [
        "\n",
        "# predict on new data\n"
      ]
    },
    {
      "cell_type": "code",
      "metadata": {
        "id": "KaAvZOcjbTAR"
      },
      "source": [
        "# fit this model with all hyperparam learned above with whole data (hyperparm has been left to default in this case )\n",
        "final_lr_model = lr_churn.fit(final_data)"
      ],
      "execution_count": 25,
      "outputs": []
    },
    {
      "cell_type": "code",
      "metadata": {
        "id": "dD13XGUxbrRS"
      },
      "source": [
        "new_customers = spark.read.csv('new_customers.csv', inferSchema=True, header=True)"
      ],
      "execution_count": 26,
      "outputs": []
    },
    {
      "cell_type": "code",
      "metadata": {
        "colab": {
          "base_uri": "https://localhost:8080/"
        },
        "id": "bWzzK7Jjb7Yl",
        "outputId": "80a6ea09-d057-47e2-96c3-f0f972071f33"
      },
      "source": [
        "new_customers.printSchema()"
      ],
      "execution_count": 27,
      "outputs": [
        {
          "output_type": "stream",
          "name": "stdout",
          "text": [
            "root\n",
            " |-- Names: string (nullable = true)\n",
            " |-- Age: double (nullable = true)\n",
            " |-- Total_Purchase: double (nullable = true)\n",
            " |-- Account_Manager: integer (nullable = true)\n",
            " |-- Years: double (nullable = true)\n",
            " |-- Num_Sites: double (nullable = true)\n",
            " |-- Onboard_date: string (nullable = true)\n",
            " |-- Location: string (nullable = true)\n",
            " |-- Company: string (nullable = true)\n",
            "\n"
          ]
        }
      ]
    },
    {
      "cell_type": "code",
      "metadata": {
        "colab": {
          "base_uri": "https://localhost:8080/"
        },
        "id": "X6_5hMdRb_-Y",
        "outputId": "9aaca103-ee2c-41d4-b0b4-20b28a25db3d"
      },
      "source": [
        "new_customers_transformed = assembler.transform(new_customers)\n",
        "new_customers_transformed.printSchema()"
      ],
      "execution_count": 28,
      "outputs": [
        {
          "output_type": "stream",
          "name": "stdout",
          "text": [
            "root\n",
            " |-- Names: string (nullable = true)\n",
            " |-- Age: double (nullable = true)\n",
            " |-- Total_Purchase: double (nullable = true)\n",
            " |-- Account_Manager: integer (nullable = true)\n",
            " |-- Years: double (nullable = true)\n",
            " |-- Num_Sites: double (nullable = true)\n",
            " |-- Onboard_date: string (nullable = true)\n",
            " |-- Location: string (nullable = true)\n",
            " |-- Company: string (nullable = true)\n",
            " |-- features: vector (nullable = true)\n",
            "\n"
          ]
        }
      ]
    },
    {
      "cell_type": "code",
      "metadata": {
        "id": "WxcfYRPvcWyg"
      },
      "source": [
        "result_new_customers = final_lr_model.transform(new_customers_transformed)"
      ],
      "execution_count": 29,
      "outputs": []
    },
    {
      "cell_type": "code",
      "metadata": {
        "colab": {
          "base_uri": "https://localhost:8080/"
        },
        "id": "GUBthocecmQC",
        "outputId": "b9c2b11b-53be-448c-8025-6ecf02e0ee4b"
      },
      "source": [
        "result_new_customers.select('Company','prediction').show()"
      ],
      "execution_count": 31,
      "outputs": [
        {
          "output_type": "stream",
          "name": "stdout",
          "text": [
            "+----------------+----------+\n",
            "|         Company|prediction|\n",
            "+----------------+----------+\n",
            "|        King Ltd|       0.0|\n",
            "|   Cannon-Benson|       1.0|\n",
            "|Barron-Robertson|       1.0|\n",
            "|   Sexton-Golden|       1.0|\n",
            "|        Wood LLC|       0.0|\n",
            "|   Parks-Robbins|       1.0|\n",
            "+----------------+----------+\n",
            "\n"
          ]
        }
      ]
    },
    {
      "cell_type": "markdown",
      "metadata": {
        "id": "mJ3fL8WSc17Y"
      },
      "source": [
        "these 4 customers are going to churn \n",
        "\n"
      ]
    }
  ]
}